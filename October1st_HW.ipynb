{
  "nbformat": 4,
  "nbformat_minor": 0,
  "metadata": {
    "colab": {
      "name": "October1st_HW.ipynb",
      "provenance": []
    },
    "kernelspec": {
      "name": "python3",
      "display_name": "Python 3"
    }
  },
  "cells": [
    {
      "cell_type": "code",
      "metadata": {
        "id": "eVDCWFK44Nao"
      },
      "source": [
        "#Problem 1:\n",
        "\n",
        "i=0\n",
        "while i < 3:\n",
        "  name = input(\"Enter your name: \")\n",
        "  age = int(input(\"enter your age: \"))\n",
        "  if name.isalpha()==True and age > 1 and age < 100 and i < 3:\n",
        "    print('Acceptable.')\n",
        "    i += 4\n",
        "  elif i < 3 and name.isalpha()==False:\n",
        "    i += 1\n",
        "    print(\"Unacceptable.\")\n",
        "  elif i < 3 and age > 100:\n",
        "    i += 1\n",
        "    print(\"Unacceptable.\")\n",
        "  elif i < 3 and age < 1:\n",
        "    i += 1\n",
        "    print(\"Unacceptable.\")"
      ],
      "execution_count": null,
      "outputs": []
    },
    {
      "cell_type": "code",
      "metadata": {
        "id": "X-4o4jp3PfBM"
      },
      "source": [
        "#Problem 2: Ask the user to create a password that is 8 or more characters, \n",
        "#contains a number, an uppercase letter, a lowercase letter, and a special character. \n",
        "#Tell them which issue they are having if it is not a valid password. Give them unlimited attempts to get it correct."
      ],
      "execution_count": null,
      "outputs": []
    },
    {
      "cell_type": "code",
      "metadata": {
        "id": "AgH2BST3RX3r"
      },
      "source": [
        "#Problem 3: Use a for loop to output every number that has a 3 in it (such as 13, 33, etc) between 1 and 1000. Use a line (such as 3 | 13 | 23 | etc) to split it up"
      ],
      "execution_count": null,
      "outputs": []
    },
    {
      "cell_type": "code",
      "metadata": {
        "id": "gcSD7AX0Rb-t"
      },
      "source": [
        "#Problem 4: Use a while loop to output all the even numbers between 1 and 100 backwards, e.g. 100, 98, 96, etc."
      ],
      "execution_count": null,
      "outputs": []
    },
    {
      "cell_type": "code",
      "metadata": {
        "id": "XjYZZpxBRjuD"
      },
      "source": [
        "#Problem 5: Use a loop to output all the prime numbers between 100 and 1000 (use a bar in between, simiilar to question 3)."
      ],
      "execution_count": null,
      "outputs": []
    }
  ]
}