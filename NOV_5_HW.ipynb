{
  "nbformat": 4,
  "nbformat_minor": 0,
  "metadata": {
    "colab": {
      "name": "NOV_5_HW",
      "provenance": [],
      "collapsed_sections": []
    },
    "kernelspec": {
      "name": "python3",
      "display_name": "Python 3"
    }
  },
  "cells": [
    {
      "cell_type": "code",
      "metadata": {
        "id": "_a_rCVrhBIIU"
      },
      "source": [
        "#https://raw.githubusercontent.com/brandjula/BCS109-FALL-2020/master/MOCK_DATA_NOV_5.csv"
      ],
      "execution_count": null,
      "outputs": []
    },
    {
      "cell_type": "code",
      "metadata": {
        "id": "CTKpocMOBcWb"
      },
      "source": [
        "#load libraries\n",
        "import pandas as pd\n",
        "import numpy as np\n",
        "import matplotlib.pyplot as plt\n",
        "import missingno as msno\n",
        "import seaborn as sns\n",
        "\n",
        "df = pd.read_csv(\"https://raw.githubusercontent.com/brandjula/BCS109-FALL-2020/master/MOCK_DATA_NOV_5.csv\")"
      ],
      "execution_count": null,
      "outputs": []
    },
    {
      "cell_type": "code",
      "metadata": {
        "id": "qqKZXVTKC-_Q"
      },
      "source": [
        "#stats on my data (check for null values)\n",
        "df.isnull().sum()"
      ],
      "execution_count": null,
      "outputs": []
    },
    {
      "cell_type": "code",
      "metadata": {
        "id": "0sMQyQBlDxvj"
      },
      "source": [
        "#stats on my data (uniqueness)\n",
        "df.nunique()"
      ],
      "execution_count": null,
      "outputs": []
    },
    {
      "cell_type": "code",
      "metadata": {
        "id": "EdadtNEkEG6Q"
      },
      "source": [
        "#describe data\n",
        "df.describe()"
      ],
      "execution_count": null,
      "outputs": []
    },
    {
      "cell_type": "code",
      "metadata": {
        "id": "VbUjv0ReEg6G"
      },
      "source": [
        "#chart 1\n",
        "sns.catplot(data=df, kind='box', height=4, aspect=2)"
      ],
      "execution_count": null,
      "outputs": []
    },
    {
      "cell_type": "code",
      "metadata": {
        "id": "Ltwww2S7GDSx"
      },
      "source": [
        "#chart 2\n",
        "sns.countplot(x=\"card_type\", data=df)"
      ],
      "execution_count": null,
      "outputs": []
    },
    {
      "cell_type": "code",
      "metadata": {
        "id": "0C5fxwOnIwOO"
      },
      "source": [
        "#chart 3\n",
        "sns.countplot(x=\"gender\", data=df)"
      ],
      "execution_count": null,
      "outputs": []
    },
    {
      "cell_type": "code",
      "metadata": {
        "id": "v5-AGGQ3KXYh"
      },
      "source": [
        "#chart 4\n",
        "sns.barplot(x=\"id\", y=\"total_spent\", data=df)"
      ],
      "execution_count": null,
      "outputs": []
    },
    {
      "cell_type": "code",
      "metadata": {
        "id": "yCgtgJnNKtM4"
      },
      "source": [
        "#chart 5\n",
        "sns.barplot(x=\"card_type\", y=\"total_spent\", data=df)"
      ],
      "execution_count": null,
      "outputs": []
    },
    {
      "cell_type": "code",
      "metadata": {
        "id": "J07wSYfJLx6U"
      },
      "source": [
        "#heatmap\n",
        "info = df.pivot(\"total_spent\",\"id\")\n",
        "ax = sns.heatmap(info)\n",
        "sns.heatmap(df)"
      ],
      "execution_count": null,
      "outputs": []
    },
    {
      "cell_type": "markdown",
      "metadata": {
        "id": "kIqckybxNx8G"
      },
      "source": [
        "**Data Science** is a field of study that uses various methods to gain insights from data. These insights then can be used to make informed decisions in business, politics, etc. It also includes the process of gatherinf said data.\n",
        "\n",
        "The **Data Science process** is as follows:\n",
        "Collect > Move/Store > Explore/Transform > Aggregate/Label > Learn/Optimize"
      ]
    },
    {
      "cell_type": "markdown",
      "metadata": {
        "id": "bhrN2nsSRnKE"
      },
      "source": [
        "## The Difference Between Tuples and Lists\n",
        "\n",
        "While lists and tuples are both types of sequences, a list can be changed/added on to while a tuple cannot. Tuples support all of the same operations as lists, except those that modify list contents."
      ]
    },
    {
      "cell_type": "markdown",
      "metadata": {
        "id": "riwmTRW5SMwi"
      },
      "source": [
        "**scikit learn** is a library for machine learning among other data processing methods. It is open source. \n",
        " \n",
        "**pandas** is a library for high level data processing and manipulation. It is open source. \n",
        "\n",
        "**tensorflow** is a library also intended for machine learning, but focuses on neural networks and training. It is open source.\n",
        "\n",
        "**numpy** is a library allowing use of high-level math functions and large matrices and arrays. It is open source.\n",
        "\n",
        "**tkinter** is a python instance of the TK graphical user interface toolkit, which is used in many programming languages. It is open source.\n"
      ]
    }
  ]
}