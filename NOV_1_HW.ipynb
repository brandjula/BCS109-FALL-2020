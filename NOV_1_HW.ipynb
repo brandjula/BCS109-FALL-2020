{
  "nbformat": 4,
  "nbformat_minor": 0,
  "metadata": {
    "colab": {
      "name": "HW 10-26",
      "provenance": [],
      "collapsed_sections": []
    },
    "kernelspec": {
      "name": "python3",
      "display_name": "Python 3"
    }
  },
  "cells": [
    {
      "cell_type": "code",
      "metadata": {
        "id": "03Azg5AfYIOa"
      },
      "source": [
        "#1. Create functions to do the following: max, min, average, standard deviation, and geometric average. \n",
        "\n",
        "def Max(numbers):\n",
        "  max = -1\n",
        "  for k in numbers:\n",
        "    if max < k:\n",
        "      max = k\n",
        "  return max\n",
        "\n",
        "def Min(numbers):\n",
        "  min = 1000000000\n",
        "  for k in numbers:\n",
        "    if min > k:\n",
        "      min = k\n",
        "  return min\n",
        "\n",
        "def average(numbers):\n",
        "  total = 0\n",
        "  for k in numbers:\n",
        "    total += k\n",
        "  return total/ len(numbers)\n",
        "\n",
        "def stdDeviation(numbers):\n",
        "  total = 0\n",
        "  avg = average(numbers)\n",
        "  for k in numbers:\n",
        "    total += pow(k-avg,2)\n",
        "  return pow(total/(len(numbers)-1),.5)\n",
        "\n",
        "def geoMean(numbers):\n",
        "  total=1\n",
        "  for k in numbers:\n",
        "    total *= k\n",
        "  return pow(total, 1/len(numbers))\n",
        "\n",
        "myList = [2, 22, 13, 6, 7, 98, 4]\n",
        "print(average(myList))\n",
        "print(max(myList))  "
      ],
      "execution_count": null,
      "outputs": []
    },
    {
      "cell_type": "code",
      "metadata": {
        "id": "ojduZVNa3Ss6"
      },
      "source": [
        "# 2.Create a function that asks the user which shape they would like to analyze. \n",
        "#It should then call other functions based on this and return the area of the shape.\n",
        "#The triangle function should take in the base and height, the circle function should take in the radius, \n",
        "#and the square function should take in the side length.\n",
        "\n",
        "import math\n",
        "val=0\n",
        "def chooseShape():\n",
        "  val = float (input(\"Press 1 for triangle, 2 for circle, 3 for square \"))\n",
        "  if val == 1:\n",
        "    triangleArea()\n",
        "  elif val == 2:\n",
        "    circleArea()\n",
        "  elif val == 3:\n",
        "    squareArea()\n",
        "  else:\n",
        "    print(\"invalid choice\")\n",
        "\n",
        "def triangleArea():\n",
        "  base=float(input('what is the base?'))\n",
        "  height=float(input('what is the height'))\n",
        "  print(f'the area of the triangle is {base*height/2}.')\n",
        "\n",
        "def circleArea():\n",
        "  radius = float(input('radius?'))\n",
        "  print(f'the area of the circle is {radius*radius*math.pi}')\n",
        "\n",
        "def squareArea():\n",
        "  side = float(input('length of one side?'))\n",
        "  print(f'the area of the square is {side**2}.')\n",
        "\n",
        "chooseShape()"
      ],
      "execution_count": null,
      "outputs": []
    },
    {
      "cell_type": "code",
      "metadata": {
        "id": "Yt8G49INdaUr"
      },
      "source": [
        "# 3. Create a function that takes in a list and returns the list doubled. \n",
        "#It should ask the user for option one or two. If the user chooses option one it \n",
        "#should return the list doubled such as [1 2 3] becoming [1 2 3 1 2 3], if the \n",
        "#user chooses option two then is should return the list such as [1 2 3] becoming [2 4 6].\n",
        "\n",
        "def doubleFunct(x):\n",
        "  choice = int(input('Type 1 to double the numbers and 2 to double the values'))\n",
        "  if choice == 1:\n",
        "    return x*2\n",
        "  \n",
        "  elif choice == 2:\n",
        "    for k in range(len(x)):\n",
        "      x[k] = x[k]*2\n",
        "    return x\n",
        "\n",
        "val = [1, 2, 3]\n",
        "placeholder = doubleFunct(val)\n",
        "\n",
        "print(placeholder)"
      ],
      "execution_count": null,
      "outputs": []
    },
    {
      "cell_type": "code",
      "metadata": {
        "id": "BgWf64DHfO7F"
      },
      "source": [
        "# 4.Create a function that takes in two lists and concatenates the numbers in those lists.\n",
        "#For instance, if we have [1 2 3] and [7 8 9], we should return [17 28 39].\n",
        "\n",
        "x = [2, 3, 5]\n",
        "y = [4, 6, 7]\n",
        "\n",
        "def twoLists(x,y):\n",
        "  placeholder = []\n",
        "  for i in range(len(x)):\n",
        "    placeholder.append(x[i] *10 + y[i])\n",
        "  return placeholder\n",
        "\n",
        "print(twoLists(v,w))"
      ],
      "execution_count": null,
      "outputs": []
    },
    {
      "cell_type": "code",
      "metadata": {
        "id": "dOD83Aukir8d"
      },
      "source": [
        "# 5. Create a function that returns a list of primes up until the number passed in. \n",
        "#So if 100 is passed in, it should return all the primes up until 100.\n",
        "\n",
        "def primeList():\n",
        "  num = int(input(\"You want all primes up until what number? \"))\n",
        "  for i in range(num):\n",
        "    if i>1:\n",
        "      for j in range(2,i):\n",
        "          if(i % j==0):\n",
        "              break\n",
        "      else:\n",
        "          print(i)\n",
        "primeList()"
      ],
      "execution_count": null,
      "outputs": []
    },
    {
      "cell_type": "code",
      "metadata": {
        "id": "zA-9oPIZZtBQ"
      },
      "source": [
        "# 6. Write a function calculation() such that it can accept two variables and calculate the addition \n",
        "#and subtraction of it. And also it must return both addition and subtraction in a single return call.\n",
        "\n",
        "def calculation(x,y):\n",
        "  subtAns = x - y\n",
        "  addAns = x + y\n",
        "  \n",
        "  return [subtAns,addAns];\n",
        "\n",
        "varOne = int(input(\"What is your first number? \"))\n",
        "varTwo = int(input(\"What is your second number? \"))\n",
        "\n",
        "print(f'The addition and subtraction of those two numbers are as follows: ',calculation(varOne, varTwo))"
      ],
      "execution_count": null,
      "outputs": []
    },
    {
      "cell_type": "code",
      "metadata": {
        "id": "O_soWBsweODf"
      },
      "source": [
        "# 7. If we list all the natural numbers below 10 that are multiples of 3 or 5, we get 3, 5, 6 and 9. \n",
        "# The sum of these multiples is 23. Find the sum of all the multiples of 3 or 5 below 1000.\n",
        "\n",
        "\n",
        "multThreeList = []\n",
        "multFiveList = []\n",
        "\n",
        "for i in range(334):\n",
        "  multThree = i*3\n",
        "  multThreeList.append(multThree)\n",
        "\n",
        "for j in range(200):\n",
        "  multFive = j*5\n",
        "  multFiveList.append(multFive)\n",
        "\n",
        "sumOfThree = sum(multThreeList)  \n",
        "sumOfFive = sum(multFiveList)\n",
        "totalSum = sumOfFive + sumOfThree\n",
        "\n",
        "print('The sum of all multiples of 3 and 5 is: ',totalSum)"
      ],
      "execution_count": null,
      "outputs": []
    },
    {
      "cell_type": "code",
      "metadata": {
        "id": "Ec4OByVIi4hR"
      },
      "source": [
        "# 8. Find the sum of the even valued Fibonacci numbers below 1000.\n",
        "# (0, 2, 8, 34, 144, 610)\n",
        "a = 1\n",
        "b = 1\n",
        "d = 0\n",
        "\n",
        "for k in range(15):\n",
        "  c = a + b\n",
        "  if c % 2 == 0:\n",
        "    d = d + c\n",
        "  a = b\n",
        "  b = c\n",
        "\n",
        "print(d)"
      ],
      "execution_count": null,
      "outputs": []
    }
  ]
}