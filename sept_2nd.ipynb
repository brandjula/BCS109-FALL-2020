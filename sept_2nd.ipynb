{
  "nbformat": 4,
  "nbformat_minor": 0,
  "metadata": {
    "colab": {
      "name": "sept_2nd.ipynb",
      "provenance": []
    },
    "kernelspec": {
      "name": "python3",
      "display_name": "Python 3"
    }
  },
  "cells": [
    {
      "cell_type": "code",
      "metadata": {
        "id": "WJqi4buTn8eE",
        "colab_type": "code",
        "colab": {
          "base_uri": "https://localhost:8080/",
          "height": 34
        },
        "outputId": "781fd9c9-41dc-44a8-b536-d8efbc81945c"
      },
      "source": [
        "x = 3\n",
        "y = 4\n",
        "z = 5\n",
        "print(x + y + z);"
      ],
      "execution_count": null,
      "outputs": [
        {
          "output_type": "stream",
          "text": [
            "12\n"
          ],
          "name": "stdout"
        }
      ]
    },
    {
      "cell_type": "markdown",
      "metadata": {
        "id": "zKiSK7uZs0p6",
        "colab_type": "text"
      },
      "source": [
        "#phone research\n",
        "This is my phone research\n",
        "\n",
        "1. people are addicted to their phones.\n",
        "2. people are addicted to their phones.3. people are addicted to their phones."
      ]
    },
    {
      "cell_type": "code",
      "metadata": {
        "id": "EfVJmCB5ywVf",
        "colab_type": "code",
        "colab": {
          "base_uri": "https://localhost:8080/",
          "height": 68
        },
        "outputId": "e668e87f-c775-4292-872f-a2bee94cb155"
      },
      "source": [
        "name = input('What is your name?\\n')\n",
        "print(\"Hello\", name,\".\");"
      ],
      "execution_count": null,
      "outputs": [
        {
          "output_type": "stream",
          "text": [
            "What is your name?\n",
            "Julia\n",
            "Hello Julia .\n"
          ],
          "name": "stdout"
        }
      ]
    },
    {
      "cell_type": "code",
      "metadata": {
        "id": "7iNxel8_01Im",
        "colab_type": "code",
        "colab": {
          "base_uri": "https://localhost:8080/",
          "height": 51
        },
        "outputId": "65b2509b-12a2-4915-9fef-c97a2c6c311b"
      },
      "source": [
        "num = int(input('give me a number please! '))\n",
        "print('Your number is:', num);"
      ],
      "execution_count": null,
      "outputs": [
        {
          "output_type": "stream",
          "text": [
            "give me a number please! 4\n",
            "Your number is: 4\n"
          ],
          "name": "stdout"
        }
      ]
    }
  ]
}