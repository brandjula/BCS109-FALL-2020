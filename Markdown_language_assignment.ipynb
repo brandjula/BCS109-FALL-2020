{
  "nbformat": 4,
  "nbformat_minor": 0,
  "metadata": {
    "colab": {
      "name": "Markdown language assignment",
      "provenance": [],
      "collapsed_sections": []
    },
    "kernelspec": {
      "name": "python3",
      "display_name": "Python 3"
    }
  },
  "cells": [
    {
      "cell_type": "markdown",
      "metadata": {
        "id": "Ff9E6Ltr2BRG",
        "colab_type": "text"
      },
      "source": [
        "~~Not Julia Brand~~\n",
        "##Julia Brand's interesting facts##\n",
        "One *interesting* fact about me is that my birthday is two days after the **Fourth of July**."
      ]
    }
  ]
}